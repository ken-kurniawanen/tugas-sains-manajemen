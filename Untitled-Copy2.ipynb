{
 "cells": [
  {
   "cell_type": "code",
   "execution_count": 1,
   "metadata": {
    "collapsed": true
   },
   "outputs": [],
   "source": [
    "import pandas as pd\n",
    "import numpy as np\n",
    "\n",
    "from pyproj import Geod\n",
    "\n",
    "from sklearn.cluster import KMeans\n",
    "from sklearn.neighbors import KNeighborsClassifier\n",
    "from sklearn.neighbors.nearest_centroid import NearestCentroid\n",
    "\n",
    "from sklearn import preprocessing\n",
    "\n",
    "import matplotlib.pyplot as plt\n",
    "%matplotlib inline"
   ]
  },
  {
   "cell_type": "code",
   "execution_count": 2,
   "metadata": {
    "collapsed": true
   },
   "outputs": [],
   "source": [
    "kitchen = pd.read_csv(\"kitchen.csv\", error_bad_lines=False, engine=\"python\", encoding = \"ISO-8859-1\")\n",
    "customer = pd.read_csv(\"customer.csv\", error_bad_lines=False, engine=\"python\", encoding = \"ISO-8859-1\")\n",
    "\n",
    "customer1 = pd.read_csv(\"customer.csv\", error_bad_lines=False, engine=\"python\", encoding = \"ISO-8859-1\")\n",
    "kitchen1 = pd.read_csv(\"kitchen.csv\", error_bad_lines=False, engine=\"python\", encoding = \"ISO-8859-1\")\n"
   ]
  },
  {
   "cell_type": "code",
   "execution_count": 3,
   "metadata": {},
   "outputs": [
    {
     "name": "stdout",
     "output_type": "stream",
     "text": [
      "   kitchenName        long       lat\n",
      "0            0  106.814653 -6.150735\n",
      "1            1  106.834772 -6.279489\n",
      "2            2  106.793820 -6.192896\n",
      "3            3  106.826822 -6.224094\n",
      "4            4  106.795993 -6.157473\n",
      "5            5  106.847226 -6.184124\n",
      "6            6  106.914214 -6.256911\n"
     ]
    }
   ],
   "source": [
    "kitchen.drop(['minCapacity'], axis=1, inplace=True)\n",
    "kitchen.drop(['maxCapacity'], axis=1, inplace=True)\n",
    "kitchen.drop(['tolerance'], axis=1, inplace=True)\n",
    "\n",
    "customer.drop(['customersName'], axis=1, inplace=True)\n",
    "customer.drop(['qtyOrdered'], axis=1, inplace=True)\n",
    "\n",
    "\n",
    "lef = preprocessing.LabelEncoder()\n",
    "\n",
    "#Create a new column with transformed values.\n",
    "kitchen['kitchenName'] = lef.fit_transform(kitchen['kitchenName'])\n",
    "print(kitchen)\n",
    "\n"
   ]
  },
  {
   "cell_type": "code",
   "execution_count": 4,
   "metadata": {
    "collapsed": true
   },
   "outputs": [],
   "source": [
    "y = kitchen['kitchenName']\n",
    "X = pd.DataFrame(kitchen.drop('kitchenName', axis=1))\n",
    "\n",
    "clf = NearestCentroid()\n",
    "clf.fit(X, y)\n",
    "pred = clf.predict(customer)\n",
    "\n",
    "#customer1['cluster'] = pd.Series(pred, index=customer1.index)\n",
    "customer['cluster'] = pd.Series(pred, index=customer.index)"
   ]
  },
  {
   "cell_type": "code",
   "execution_count": 5,
   "metadata": {},
   "outputs": [
    {
     "data": {
      "text/plain": [
       "(158, 3)"
      ]
     },
     "execution_count": 5,
     "metadata": {},
     "output_type": "execute_result"
    }
   ],
   "source": [
    "customer.shape"
   ]
  },
  {
   "cell_type": "code",
   "execution_count": 14,
   "metadata": {
    "collapsed": true
   },
   "outputs": [],
   "source": [
    "wgs84_geod = Geod(ellps='WGS84') #Distance will be measured on this ellipsoid - more accurate than a spherical method katanya\n",
    "\n",
    "#Get distance between pairs of lat-lon points\n",
    "def Distance(lat1,lon1,lat2,lon2):\n",
    "  az12,az21,dist = wgs84_geod.inv(lon1,lat1,lon2,lat2)\n",
    "  return dist\n",
    "\n",
    "\n",
    "\n",
    "#Add/update a column to the data frame with the distances (in metres)\n",
    "customer1['dist0'] = Distance(customer1['lat'].tolist(),customer1['long'].tolist(),[kitchen['lat'].iloc[0]]*158,[kitchen['long'].iloc[0]]*158)\n",
    "customer1['dist1'] = Distance(customer1['lat'].tolist(),customer1['long'].tolist(),[kitchen['lat'].iloc[1]]*158,[kitchen['long'].iloc[0]]*158)\n",
    "customer1['dist2'] = Distance(customer1['lat'].tolist(),customer1['long'].tolist(),[kitchen['lat'].iloc[2]]*158,[kitchen['long'].iloc[0]]*158)\n",
    "customer1['dist3'] = Distance(customer1['lat'].tolist(),customer1['long'].tolist(),[kitchen['lat'].iloc[3]]*158,[kitchen['long'].iloc[0]]*158)\n",
    "customer1['dist4'] = Distance(customer1['lat'].tolist(),customer1['long'].tolist(),[kitchen['lat'].iloc[4]]*158,[kitchen['long'].iloc[0]]*158)\n",
    "customer1['dist5'] = Distance(customer1['lat'].tolist(),customer1['long'].tolist(),[kitchen['lat'].iloc[5]]*158,[kitchen['long'].iloc[0]]*158)\n",
    "customer1['dist6'] = Distance(customer1['lat'].tolist(),customer1['long'].tolist(),[kitchen['lat'].iloc[6]]*158,[kitchen['long'].iloc[0]]*158)\n"
   ]
  },
  {
   "cell_type": "code",
   "execution_count": 15,
   "metadata": {},
   "outputs": [
    {
     "name": "stdout",
     "output_type": "stream",
     "text": [
      "    customersName        long       lat  qtyOrdered         dist0  \\\n",
      "0        53WJWGRK  106.836794 -6.217340           5   7762.611478   \n",
      "1        34JD8T7P  106.824099 -6.183299           9   3749.915562   \n",
      "2        1FD97O63  106.820074 -6.203792           5   5898.053090   \n",
      "3        39R7P6D7  106.912387 -6.205225           1  12382.173772   \n",
      "4        4E74CSUP  106.708647 -6.169678           3  11918.385945   \n",
      "5        5N0HQP9M  106.828488 -6.161143           2   1915.697006   \n",
      "6        2KDXBO1K  106.732360 -6.184005           3   9823.107224   \n",
      "7        2HV6K6KS  106.894592 -6.146279           4   8861.618248   \n",
      "8        4GFQ5HJ7  106.803606 -6.245037           4  10500.040027   \n",
      "9        2NN33T9V  106.880876 -6.161799           5   7431.154356   \n",
      "10       9AYVVHRS  106.748505 -6.196547           6   8903.114612   \n",
      "11       60B6SX6Q  106.787067 -6.232970           9   9592.970153   \n",
      "12       2QXJZVWG  106.832551 -6.230380           4   9027.794125   \n",
      "13       5TMUO6HJ  106.819481 -6.175477           6   2787.859119   \n",
      "14       4L379A08  106.825108 -6.229270           4   8761.756328   \n",
      "15       5SU6PL1Y  106.799072 -6.253435           3  11487.507404   \n",
      "16       355J2F81  106.819210 -6.226392           1   8381.928409   \n",
      "17       3V758V8K  106.831803 -6.139387           3   2275.576850   \n",
      "18       40RP85WP  106.799023 -6.227039           7   8613.797234   \n",
      "19       37WYDQAL  106.822782 -6.221090           1   7832.229474   \n",
      "20       3RQTCAZ9  106.757140 -6.125242           1   6962.125848   \n",
      "21       2MMGF15J  106.774863 -6.149745           6   4405.348774   \n",
      "22       2HYWBKS1  106.832287 -6.239348           1   9991.927923   \n",
      "23       3ZKM2569  106.816635 -6.224329           3   8141.576114   \n",
      "24       WVQJYLQW  106.799447 -6.279837           1  14375.915729   \n",
      "25       5PB8GTQP  106.827524 -6.190937           1   4668.539340   \n",
      "26       9BKOTYZM  106.737873 -6.166694           2   8679.414941   \n",
      "27       3T2W84PS  106.798767 -6.189966           1   4681.167817   \n",
      "28       57FWCQEC  106.839178 -6.165656           1   3176.696883   \n",
      "29       341PYND9  106.818017 -6.216884           1   7324.745008   \n",
      "..            ...         ...       ...         ...           ...   \n",
      "128      36G80EJT  106.812820 -6.258389           2  11906.976202   \n",
      "129      6Q82SGTO  106.836316 -6.302188           1  16919.504683   \n",
      "130      4G9CNKB6  106.876089 -6.186962           1   7892.188112   \n",
      "131      2PP9C4RW  106.822109 -6.129017           1   2539.571273   \n",
      "132      UPZ3XRMC  106.802813 -6.228712           1   8722.267358   \n",
      "133      2PJ3XNUI  106.870749 -6.236101           1  11298.942609   \n",
      "134      50W8N0H8  106.793283 -6.294194           4  16040.089957   \n",
      "135      3ZONK3PA  106.803642 -6.291286           2  15590.890889   \n",
      "136      5SQAGZ43  106.832374 -6.219838           1   7889.602273   \n",
      "137      4L3HMEFP  106.821372 -6.174446           4   2725.606399   \n",
      "138      5V325JCT  106.831998 -6.219503           1   7843.421635   \n",
      "139      3RKFWUSO  106.835404 -6.285691          12  15100.116066   \n",
      "140      99JPN82I  106.847998 -6.140276           1   3867.736570   \n",
      "141      3EJ15Y5O  106.822093 -6.200262           1   5538.652982   \n",
      "142      4GAA84UO  106.917938 -6.223125           1  13955.599924   \n",
      "143      56BBU975  106.798800 -6.218460           6   7692.306302   \n",
      "144      Q280F4KF  106.803606 -6.245037           1  10500.040027   \n",
      "145      8B9S30VE  106.914584 -6.188593           1  11826.176802   \n",
      "146      5V0TXYRB  106.781005 -6.248081           1  11391.164434   \n",
      "147      4CWFSOVV  106.854954 -6.141550           6   4574.873669   \n",
      "148      38NDP0W9  106.829328 -6.216536           1   7455.863033   \n",
      "149      3RMHZUBC  106.799038 -6.177534           1   3430.747779   \n",
      "150      2KBT36Z6  106.809504 -6.230935           4   8887.422732   \n",
      "151      1VOEJ8JH  106.809504 -6.230935           3   8887.422732   \n",
      "152      1EREMSX4  106.818595 -6.210859           9   6663.340432   \n",
      "153      216FL94T  106.827000 -6.138080           1   1956.063044   \n",
      "154      1DBK824Y  106.877250 -6.138597           2   7057.399205   \n",
      "155      86RWME7T  106.805662 -6.224949           1   8267.245158   \n",
      "156      5TSV5VWN  106.741274 -6.219497           2  11125.596210   \n",
      "157      56D5EYXT  106.828194 -6.197497           1   5384.104950   \n",
      "\n",
      "            dist1         dist2         dist3         dist4         dist5  \\\n",
      "0     7296.597732   3648.488505   2561.713598   7059.473726   4415.631819   \n",
      "1    10688.562832   1489.765836   4630.959750   3041.406496   1049.424042   \n",
      "2     8392.560471   1346.009511   2323.966816   5157.317989   2256.308230   \n",
      "3    13580.286342  10902.092718  11015.631461  12037.085633  11065.454934   \n",
      "4    16884.751280  12010.061721  13185.371245  11810.140859  11840.728558   \n",
      "5    13176.798437   3830.909652   7128.045659   1584.220480   2967.065464   \n",
      "6    13943.995217   9160.614260  10129.166203   9568.928869   9107.771354   \n",
      "7    17183.636355  10239.945101  12342.096930   8934.030098   9787.535633   \n",
      "8     4001.242952   5894.237984   2618.836350   9760.335748   6846.280486   \n",
      "9    14936.552149   8096.114185  10058.644919   7345.276447   7734.104305   \n",
      "10   11735.255423   7331.928560   7929.154301   8501.159151   7448.666607   \n",
      "11    5981.900131   5381.397497   3206.721073   8889.714326   6204.820208   \n",
      "12    5780.651537   4594.176999   2099.172347   8302.402543   5485.529247   \n",
      "13   11514.780299   1999.130211   5402.960726   2061.471018   1095.387066   \n",
      "14    5672.779886   4185.565823   1290.896081   8023.728336   5124.962405   \n",
      "15    3357.661298   6913.272437   3674.382870  10751.372589   7856.523330   \n",
      "16    5893.425113   3738.356369    564.747505   7638.252628   4701.490068   \n",
      "17   15609.221134   6214.419797   9557.870008   2757.457911   5298.906851   \n",
      "18    6052.610327   4153.113054   1760.080360   7885.237219   5051.335580   \n",
      "19    6520.516506   3245.027496    959.037259   7092.520447   4185.829619   \n",
      "20   18206.557354   9823.258836  12649.983738   7295.708847   9106.102193   \n",
      "21   15008.497926   6493.502182   9327.112892   4486.112891   5817.880343   \n",
      "22    4849.086118   5495.141448   2579.528453   9262.264583   6411.345119   \n",
      "23    6103.869964   3482.973715    220.931097   7396.716407   4451.647823   \n",
      "24    1683.032009   9760.666592   6389.973753  13636.158590  10717.628972   \n",
      "25    9895.719229   1440.908925   3933.739232   3965.442493   1611.538771   \n",
      "26   15092.745496   8978.189083  10606.641585   8558.989337   8713.658988   \n",
      "27   10054.959378   1787.722869   4163.558795   4000.361176   1873.063524   \n",
      "28   12877.670651   4054.933481   7009.368567   2861.351284   3396.863180   \n",
      "29    6933.274455   2678.715893    880.015341   6580.659792   3641.976870   \n",
      "..            ...           ...           ...           ...           ...   \n",
      "128   2342.096899   7245.525473   3798.026709  11161.933976   8215.371444   \n",
      "129   3470.943302  12321.690442   8962.691589  16182.207578  13274.678037   \n",
      "130  12285.124864   6831.059548   7943.055988   7541.265492   6806.759015   \n",
      "131  16660.712248   7112.325313  10546.697549   3253.304268   6149.729252   \n",
      "132   5766.090560   4171.827403   1406.242818   7986.349760   5102.024129   \n",
      "133   7845.839296   7833.864681   6348.404342  10684.178724   8460.620612   \n",
      "134   2869.879142  11449.120798   8104.809203  15303.468117  12400.003908   \n",
      "135   1785.081215  10948.650263   7529.791780  14848.126146  11913.295322   \n",
      "136   6881.970787   3566.957321   2016.927040   7170.228163   4409.708140   \n",
      "137  11640.148927   2171.698225   5540.603909   2018.989094   1303.242360   \n",
      "138   6905.816292   3513.147444   1985.630727   7123.260538   4358.054388   \n",
      "139   2396.469046  10515.706047   7188.467097  14364.071239  11464.432997   \n",
      "140  15831.248690   6890.798544   9976.893170   4151.885236   6093.711765   \n",
      "141   8800.057454   1158.247197   2761.187600   4803.054617   1965.523699   \n",
      "142  13018.880310  11909.495371  11430.878460  13541.851198  12217.442613   \n",
      "143   6973.265761   3327.137039   1861.734165   6968.859950   4182.884401   \n",
      "144   4001.242952   5894.237984   2618.836350   9760.335748   6846.280486   \n",
      "145  14944.607704  11070.105114  11735.712717  11583.295935  11071.000619   \n",
      "146   5091.851857   7149.072039   4571.826225  10689.715594   7993.262082   \n",
      "147  15892.940352   7220.741085  10159.824354   4795.646007   6485.580477   \n",
      "148   7148.679202   3077.693388   1826.610509   6730.557905   3935.230731   \n",
      "149  11406.498960   2423.326032   5431.194690   2812.191515   1875.467919   \n",
      "150   5399.551759   4244.989327    947.065749   8143.938203   5208.019874   \n",
      "151   5399.551759   4244.989327    947.065749   8143.938203   5208.019874   \n",
      "152   7602.031209   2033.823560   1527.238522   5919.982789   2988.675622   \n",
      "153  15697.570197   6214.131148   9609.740077   2543.033024   5272.023896   \n",
      "154  17051.514987   9168.371029  11721.487383   7236.150997   8564.437976   \n",
      "155   6112.897658   3681.582844    999.413261   7528.037582   4623.105577   \n",
      "156  10485.805069   8637.277941   8136.561052  10630.173474   9014.036375   \n",
      "157   9190.216762   1582.624267   3301.077797   4672.999278   2105.507175   \n",
      "\n",
      "            dist6  \n",
      "0     5015.430034  \n",
      "1     8207.412363  \n",
      "2     5904.890550  \n",
      "3    12233.287823  \n",
      "4    15188.644513  \n",
      "5    10700.894648  \n",
      "6    12163.239432  \n",
      "7    15098.133028  \n",
      "8     1794.124503  \n",
      "9    12819.765651  \n",
      "10    9907.087929  \n",
      "11    4040.900840  \n",
      "12    3539.967294  \n",
      "13    9021.457783  \n",
      "14    3268.428955  \n",
      "15    1766.505743  \n",
      "16    3412.524290  \n",
      "17   13134.508187  \n",
      "18    3728.876939  \n",
      "19    4062.270910  \n",
      "20   15891.395033  \n",
      "21   12642.895208  \n",
      "22    2753.358895  \n",
      "23    3609.842691  \n",
      "24    3042.853908  \n",
      "25    7433.662012  \n",
      "26   13104.986311  \n",
      "27    7609.198400  \n",
      "28   10450.271828  \n",
      "29    4442.144990  \n",
      "..            ...  \n",
      "128    260.506042  \n",
      "129   5551.256996  \n",
      "130  10298.792796  \n",
      "131  14167.561284  \n",
      "132   3382.567652  \n",
      "133   6620.660293  \n",
      "134   4752.990531  \n",
      "135   3991.890912  \n",
      "136   4544.791302  \n",
      "137   9149.884543  \n",
      "138   4560.575529  \n",
      "139   3924.567594  \n",
      "140  13415.924454  \n",
      "141   6318.576492  \n",
      "142  12025.206835  \n",
      "143   4599.908796  \n",
      "144   1794.124503  \n",
      "145  13393.508326  \n",
      "146   3849.370998  \n",
      "147  13514.726396  \n",
      "148   4751.200552  \n",
      "149   8946.563760  \n",
      "150   2928.610102  \n",
      "151   2928.610102  \n",
      "152   5111.398499  \n",
      "153  13212.082823  \n",
      "154  14804.972730  \n",
      "155   3671.989129  \n",
      "156   9113.741878  \n",
      "157   6739.188691  \n",
      "\n",
      "[158 rows x 11 columns]\n"
     ]
    }
   ],
   "source": [
    "print(customer1)"
   ]
  },
  {
   "cell_type": "code",
   "execution_count": 12,
   "metadata": {},
   "outputs": [
    {
     "data": {
      "text/html": [
       "<div>\n",
       "<style>\n",
       "    .dataframe thead tr:only-child th {\n",
       "        text-align: right;\n",
       "    }\n",
       "\n",
       "    .dataframe thead th {\n",
       "        text-align: left;\n",
       "    }\n",
       "\n",
       "    .dataframe tbody tr th {\n",
       "        vertical-align: top;\n",
       "    }\n",
       "</style>\n",
       "<table border=\"1\" class=\"dataframe\">\n",
       "  <thead>\n",
       "    <tr style=\"text-align: right;\">\n",
       "      <th></th>\n",
       "      <th>customersName</th>\n",
       "      <th>long</th>\n",
       "      <th>lat</th>\n",
       "      <th>qtyOrdered</th>\n",
       "      <th>dist0</th>\n",
       "      <th>dist1</th>\n",
       "      <th>dist2</th>\n",
       "      <th>dist3</th>\n",
       "      <th>dist4</th>\n",
       "      <th>dist5</th>\n",
       "      <th>dist6</th>\n",
       "    </tr>\n",
       "  </thead>\n",
       "  <tbody>\n",
       "    <tr>\n",
       "      <th>0</th>\n",
       "      <td>53WJWGRK</td>\n",
       "      <td>106.836794</td>\n",
       "      <td>-6.217340</td>\n",
       "      <td>5</td>\n",
       "      <td>7762.555530</td>\n",
       "      <td>6876.584986</td>\n",
       "      <td>5470.548428</td>\n",
       "      <td>1332.632329</td>\n",
       "      <td>8013.878557</td>\n",
       "      <td>3850.380619</td>\n",
       "      <td>9620.540005</td>\n",
       "    </tr>\n",
       "    <tr>\n",
       "      <th>1</th>\n",
       "      <td>34JD8T7P</td>\n",
       "      <td>106.824099</td>\n",
       "      <td>-6.183299</td>\n",
       "      <td>9</td>\n",
       "      <td>3749.860738</td>\n",
       "      <td>10702.753685</td>\n",
       "      <td>3515.138180</td>\n",
       "      <td>4521.440870</td>\n",
       "      <td>4222.971445</td>\n",
       "      <td>2561.263807</td>\n",
       "      <td>12873.518195</td>\n",
       "    </tr>\n",
       "    <tr>\n",
       "      <th>2</th>\n",
       "      <td>1FD97O63</td>\n",
       "      <td>106.820074</td>\n",
       "      <td>-6.203792</td>\n",
       "      <td>5</td>\n",
       "      <td>5898.004581</td>\n",
       "      <td>8527.706662</td>\n",
       "      <td>3145.526911</td>\n",
       "      <td>2366.106512</td>\n",
       "      <td>5774.158638</td>\n",
       "      <td>3709.579169</td>\n",
       "      <td>11960.155267</td>\n",
       "    </tr>\n",
       "    <tr>\n",
       "      <th>3</th>\n",
       "      <td>39R7P6D7</td>\n",
       "      <td>106.912387</td>\n",
       "      <td>-6.205225</td>\n",
       "      <td>1</td>\n",
       "      <td>12382.113566</td>\n",
       "      <td>11883.627793</td>\n",
       "      <td>13192.753450</td>\n",
       "      <td>9696.582284</td>\n",
       "      <td>13922.418185</td>\n",
       "      <td>7579.716095</td>\n",
       "      <td>5719.372520</td>\n",
       "    </tr>\n",
       "    <tr>\n",
       "      <th>4</th>\n",
       "      <td>4E74CSUP</td>\n",
       "      <td>106.708647</td>\n",
       "      <td>-6.169678</td>\n",
       "      <td>3</td>\n",
       "      <td>11918.421749</td>\n",
       "      <td>18501.223142</td>\n",
       "      <td>9770.120040</td>\n",
       "      <td>14396.861206</td>\n",
       "      <td>9761.273555</td>\n",
       "      <td>15420.587809</td>\n",
       "      <td>24710.930704</td>\n",
       "    </tr>\n",
       "  </tbody>\n",
       "</table>\n",
       "</div>"
      ],
      "text/plain": [
       "  customersName        long       lat  qtyOrdered         dist0         dist1  \\\n",
       "0      53WJWGRK  106.836794 -6.217340           5   7762.555530   6876.584986   \n",
       "1      34JD8T7P  106.824099 -6.183299           9   3749.860738  10702.753685   \n",
       "2      1FD97O63  106.820074 -6.203792           5   5898.004581   8527.706662   \n",
       "3      39R7P6D7  106.912387 -6.205225           1  12382.113566  11883.627793   \n",
       "4      4E74CSUP  106.708647 -6.169678           3  11918.421749  18501.223142   \n",
       "\n",
       "          dist2         dist3         dist4         dist5         dist6  \n",
       "0   5470.548428   1332.632329   8013.878557   3850.380619   9620.540005  \n",
       "1   3515.138180   4521.440870   4222.971445   2561.263807  12873.518195  \n",
       "2   3145.526911   2366.106512   5774.158638   3709.579169  11960.155267  \n",
       "3  13192.753450   9696.582284  13922.418185   7579.716095   5719.372520  \n",
       "4   9770.120040  14396.861206   9761.273555  15420.587809  24710.930704  "
      ]
     },
     "execution_count": 12,
     "metadata": {},
     "output_type": "execute_result"
    }
   ],
   "source": [
    "customer1.head()"
   ]
  },
  {
   "cell_type": "code",
   "execution_count": 9,
   "metadata": {
    "collapsed": true
   },
   "outputs": [],
   "source": [
    "def visualize(data):\n",
    "    x = data['long']\n",
    "    y = data['lat']\n",
    "    Cluster = data['cluster'] \n",
    "\n",
    "    fig = plt.figure()\n",
    "    ax = fig.add_subplot(111)\n",
    "    scatter = ax.scatter(x,y,c=Cluster, cmap=plt.cm.Paired, s=10, label='customer')\n",
    "    ax.scatter(kitchen['long'],kitchen['lat'], s=10, c='r', marker=\"x\", label='second')\n",
    "    ax.set_xlabel('longitude')\n",
    "    ax.set_ylabel('latitude')\n",
    "    plt.colorbar(scatter)\n",
    "\n",
    "    fig.show()"
   ]
  },
  {
   "cell_type": "code",
   "execution_count": 10,
   "metadata": {},
   "outputs": [
    {
     "name": "stderr",
     "output_type": "stream",
     "text": [
      "/home/ken/anaconda3/lib/python3.6/site-packages/matplotlib/figure.py:403: UserWarning: matplotlib is currently using a non-GUI backend, so cannot show the figure\n",
      "  \"matplotlib is currently using a non-GUI backend, \"\n"
     ]
    },
    {
     "data": {
      "image/png": "[encoded data removed]",
      "text/plain": [
       "<matplotlib.figure.Figure at 0x7fc72dc09e48>"
      ]
     },
     "metadata": {},
     "output_type": "display_data"
    }
   ],
   "source": [
    "visualize(customer)"
   ]
  },
  {
   "cell_type": "code",
   "execution_count": 11,
   "metadata": {},
   "outputs": [
    {
     "ename": "KeyError",
     "evalue": "'cluster'",
     "output_type": "error",
     "traceback": [
      "\u001b[0;31m---------------------------------------------------------------------------\u001b[0m",
      "\u001b[0;31mKeyError\u001b[0m                                  Traceback (most recent call last)",
      "\u001b[0;32m/home/ken/anaconda3/lib/python3.6/site-packages/pandas/core/indexes/base.py\u001b[0m in \u001b[0;36mget_loc\u001b[0;34m(self, key, method, tolerance)\u001b[0m\n\u001b[1;32m   2392\u001b[0m             \u001b[0;32mtry\u001b[0m\u001b[0;34m:\u001b[0m\u001b[0;34m\u001b[0m\u001b[0m\n\u001b[0;32m-> 2393\u001b[0;31m                 \u001b[0;32mreturn\u001b[0m \u001b[0mself\u001b[0m\u001b[0;34m.\u001b[0m\u001b[0m_engine\u001b[0m\u001b[0;34m.\u001b[0m\u001b[0mget_loc\u001b[0m\u001b[0;34m(\u001b[0m\u001b[0mkey\u001b[0m\u001b[0;34m)\u001b[0m\u001b[0;34m\u001b[0m\u001b[0m\n\u001b[0m\u001b[1;32m   2394\u001b[0m             \u001b[0;32mexcept\u001b[0m \u001b[0mKeyError\u001b[0m\u001b[0;34m:\u001b[0m\u001b[0;34m\u001b[0m\u001b[0m\n",
      "\u001b[0;32mpandas/_libs/index.pyx\u001b[0m in \u001b[0;36mpandas._libs.index.IndexEngine.get_loc (pandas/_libs/index.c:5239)\u001b[0;34m()\u001b[0m\n",
      "\u001b[0;32mpandas/_libs/index.pyx\u001b[0m in \u001b[0;36mpandas._libs.index.IndexEngine.get_loc (pandas/_libs/index.c:5085)\u001b[0;34m()\u001b[0m\n",
      "\u001b[0;32mpandas/_libs/hashtable_class_helper.pxi\u001b[0m in \u001b[0;36mpandas._libs.hashtable.PyObjectHashTable.get_item (pandas/_libs/hashtable.c:20405)\u001b[0;34m()\u001b[0m\n",
      "\u001b[0;32mpandas/_libs/hashtable_class_helper.pxi\u001b[0m in \u001b[0;36mpandas._libs.hashtable.PyObjectHashTable.get_item (pandas/_libs/hashtable.c:20359)\u001b[0;34m()\u001b[0m\n",
      "\u001b[0;31mKeyError\u001b[0m: 'cluster'",
      "\nDuring handling of the above exception, another exception occurred:\n",
      "\u001b[0;31mKeyError\u001b[0m                                  Traceback (most recent call last)",
      "\u001b[0;32m<ipython-input-11-bbc137321222>\u001b[0m in \u001b[0;36m<module>\u001b[0;34m()\u001b[0m\n\u001b[0;32m----> 1\u001b[0;31m \u001b[0mdapurMiji\u001b[0m \u001b[0;34m=\u001b[0m \u001b[0;34m(\u001b[0m\u001b[0mcustomer1\u001b[0m\u001b[0;34m.\u001b[0m\u001b[0mwhere\u001b[0m\u001b[0;34m(\u001b[0m\u001b[0mcustomer1\u001b[0m\u001b[0;34m[\u001b[0m\u001b[0;34m'cluster'\u001b[0m\u001b[0;34m]\u001b[0m \u001b[0;34m==\u001b[0m \u001b[0;36m0\u001b[0m\u001b[0;34m)\u001b[0m\u001b[0;34m)\u001b[0m\u001b[0;34m[\u001b[0m\u001b[0;34m'qtyOrdered'\u001b[0m\u001b[0;34m]\u001b[0m\u001b[0;34m.\u001b[0m\u001b[0msum\u001b[0m\u001b[0;34m(\u001b[0m\u001b[0;34m)\u001b[0m\u001b[0;34m\u001b[0m\u001b[0m\n\u001b[0m\u001b[1;32m      2\u001b[0m \u001b[0mdapurNusantara\u001b[0m \u001b[0;34m=\u001b[0m \u001b[0;34m(\u001b[0m\u001b[0mcustomer1\u001b[0m\u001b[0;34m.\u001b[0m\u001b[0mwhere\u001b[0m\u001b[0;34m(\u001b[0m\u001b[0mcustomer1\u001b[0m\u001b[0;34m[\u001b[0m\u001b[0;34m'cluster'\u001b[0m\u001b[0;34m]\u001b[0m \u001b[0;34m==\u001b[0m \u001b[0;36m1\u001b[0m\u001b[0;34m)\u001b[0m\u001b[0;34m)\u001b[0m\u001b[0;34m[\u001b[0m\u001b[0;34m'qtyOrdered'\u001b[0m\u001b[0;34m]\u001b[0m\u001b[0;34m.\u001b[0m\u001b[0msum\u001b[0m\u001b[0;34m(\u001b[0m\u001b[0;34m)\u001b[0m\u001b[0;34m\u001b[0m\u001b[0m\n\u001b[1;32m      3\u001b[0m \u001b[0mfamiliaCatering\u001b[0m \u001b[0;34m=\u001b[0m \u001b[0;34m(\u001b[0m\u001b[0mcustomer1\u001b[0m\u001b[0;34m.\u001b[0m\u001b[0mwhere\u001b[0m\u001b[0;34m(\u001b[0m\u001b[0mcustomer1\u001b[0m\u001b[0;34m[\u001b[0m\u001b[0;34m'cluster'\u001b[0m\u001b[0;34m]\u001b[0m \u001b[0;34m==\u001b[0m \u001b[0;36m2\u001b[0m\u001b[0;34m)\u001b[0m\u001b[0;34m)\u001b[0m\u001b[0;34m[\u001b[0m\u001b[0;34m'qtyOrdered'\u001b[0m\u001b[0;34m]\u001b[0m\u001b[0;34m.\u001b[0m\u001b[0msum\u001b[0m\u001b[0;34m(\u001b[0m\u001b[0;34m)\u001b[0m\u001b[0;34m\u001b[0m\u001b[0m\n\u001b[1;32m      4\u001b[0m \u001b[0mpondokRawon\u001b[0m \u001b[0;34m=\u001b[0m \u001b[0;34m(\u001b[0m\u001b[0mcustomer1\u001b[0m\u001b[0;34m.\u001b[0m\u001b[0mwhere\u001b[0m\u001b[0;34m(\u001b[0m\u001b[0mcustomer1\u001b[0m\u001b[0;34m[\u001b[0m\u001b[0;34m'cluster'\u001b[0m\u001b[0;34m]\u001b[0m \u001b[0;34m==\u001b[0m \u001b[0;36m3\u001b[0m\u001b[0;34m)\u001b[0m\u001b[0;34m)\u001b[0m\u001b[0;34m[\u001b[0m\u001b[0;34m'qtyOrdered'\u001b[0m\u001b[0;34m]\u001b[0m\u001b[0;34m.\u001b[0m\u001b[0msum\u001b[0m\u001b[0;34m(\u001b[0m\u001b[0;34m)\u001b[0m\u001b[0;34m\u001b[0m\u001b[0m\n\u001b[1;32m      5\u001b[0m \u001b[0mroseCatering\u001b[0m \u001b[0;34m=\u001b[0m \u001b[0;34m(\u001b[0m\u001b[0mcustomer1\u001b[0m\u001b[0;34m.\u001b[0m\u001b[0mwhere\u001b[0m\u001b[0;34m(\u001b[0m\u001b[0mcustomer1\u001b[0m\u001b[0;34m[\u001b[0m\u001b[0;34m'cluster'\u001b[0m\u001b[0;34m]\u001b[0m \u001b[0;34m==\u001b[0m \u001b[0;36m4\u001b[0m\u001b[0;34m)\u001b[0m\u001b[0;34m)\u001b[0m\u001b[0;34m[\u001b[0m\u001b[0;34m'qtyOrdered'\u001b[0m\u001b[0;34m]\u001b[0m\u001b[0;34m.\u001b[0m\u001b[0msum\u001b[0m\u001b[0;34m(\u001b[0m\u001b[0;34m)\u001b[0m\u001b[0;34m\u001b[0m\u001b[0m\n",
      "\u001b[0;32m/home/ken/anaconda3/lib/python3.6/site-packages/pandas/core/frame.py\u001b[0m in \u001b[0;36m__getitem__\u001b[0;34m(self, key)\u001b[0m\n\u001b[1;32m   2060\u001b[0m             \u001b[0;32mreturn\u001b[0m \u001b[0mself\u001b[0m\u001b[0;34m.\u001b[0m\u001b[0m_getitem_multilevel\u001b[0m\u001b[0;34m(\u001b[0m\u001b[0mkey\u001b[0m\u001b[0;34m)\u001b[0m\u001b[0;34m\u001b[0m\u001b[0m\n\u001b[1;32m   2061\u001b[0m         \u001b[0;32melse\u001b[0m\u001b[0;34m:\u001b[0m\u001b[0;34m\u001b[0m\u001b[0m\n\u001b[0;32m-> 2062\u001b[0;31m             \u001b[0;32mreturn\u001b[0m \u001b[0mself\u001b[0m\u001b[0;34m.\u001b[0m\u001b[0m_getitem_column\u001b[0m\u001b[0;34m(\u001b[0m\u001b[0mkey\u001b[0m\u001b[0;34m)\u001b[0m\u001b[0;34m\u001b[0m\u001b[0m\n\u001b[0m\u001b[1;32m   2063\u001b[0m \u001b[0;34m\u001b[0m\u001b[0m\n\u001b[1;32m   2064\u001b[0m     \u001b[0;32mdef\u001b[0m \u001b[0m_getitem_column\u001b[0m\u001b[0;34m(\u001b[0m\u001b[0mself\u001b[0m\u001b[0;34m,\u001b[0m \u001b[0mkey\u001b[0m\u001b[0;34m)\u001b[0m\u001b[0;34m:\u001b[0m\u001b[0;34m\u001b[0m\u001b[0m\n",
      "\u001b[0;32m/home/ken/anaconda3/lib/python3.6/site-packages/pandas/core/frame.py\u001b[0m in \u001b[0;36m_getitem_column\u001b[0;34m(self, key)\u001b[0m\n\u001b[1;32m   2067\u001b[0m         \u001b[0;31m# get column\u001b[0m\u001b[0;34m\u001b[0m\u001b[0;34m\u001b[0m\u001b[0m\n\u001b[1;32m   2068\u001b[0m         \u001b[0;32mif\u001b[0m \u001b[0mself\u001b[0m\u001b[0;34m.\u001b[0m\u001b[0mcolumns\u001b[0m\u001b[0;34m.\u001b[0m\u001b[0mis_unique\u001b[0m\u001b[0;34m:\u001b[0m\u001b[0;34m\u001b[0m\u001b[0m\n\u001b[0;32m-> 2069\u001b[0;31m             \u001b[0;32mreturn\u001b[0m \u001b[0mself\u001b[0m\u001b[0;34m.\u001b[0m\u001b[0m_get_item_cache\u001b[0m\u001b[0;34m(\u001b[0m\u001b[0mkey\u001b[0m\u001b[0;34m)\u001b[0m\u001b[0;34m\u001b[0m\u001b[0m\n\u001b[0m\u001b[1;32m   2070\u001b[0m \u001b[0;34m\u001b[0m\u001b[0m\n\u001b[1;32m   2071\u001b[0m         \u001b[0;31m# duplicate columns & possible reduce dimensionality\u001b[0m\u001b[0;34m\u001b[0m\u001b[0;34m\u001b[0m\u001b[0m\n",
      "\u001b[0;32m/home/ken/anaconda3/lib/python3.6/site-packages/pandas/core/generic.py\u001b[0m in \u001b[0;36m_get_item_cache\u001b[0;34m(self, item)\u001b[0m\n\u001b[1;32m   1532\u001b[0m         \u001b[0mres\u001b[0m \u001b[0;34m=\u001b[0m \u001b[0mcache\u001b[0m\u001b[0;34m.\u001b[0m\u001b[0mget\u001b[0m\u001b[0;34m(\u001b[0m\u001b[0mitem\u001b[0m\u001b[0;34m)\u001b[0m\u001b[0;34m\u001b[0m\u001b[0m\n\u001b[1;32m   1533\u001b[0m         \u001b[0;32mif\u001b[0m \u001b[0mres\u001b[0m \u001b[0;32mis\u001b[0m \u001b[0;32mNone\u001b[0m\u001b[0;34m:\u001b[0m\u001b[0;34m\u001b[0m\u001b[0m\n\u001b[0;32m-> 1534\u001b[0;31m             \u001b[0mvalues\u001b[0m \u001b[0;34m=\u001b[0m \u001b[0mself\u001b[0m\u001b[0;34m.\u001b[0m\u001b[0m_data\u001b[0m\u001b[0;34m.\u001b[0m\u001b[0mget\u001b[0m\u001b[0;34m(\u001b[0m\u001b[0mitem\u001b[0m\u001b[0;34m)\u001b[0m\u001b[0;34m\u001b[0m\u001b[0m\n\u001b[0m\u001b[1;32m   1535\u001b[0m             \u001b[0mres\u001b[0m \u001b[0;34m=\u001b[0m \u001b[0mself\u001b[0m\u001b[0;34m.\u001b[0m\u001b[0m_box_item_values\u001b[0m\u001b[0;34m(\u001b[0m\u001b[0mitem\u001b[0m\u001b[0;34m,\u001b[0m \u001b[0mvalues\u001b[0m\u001b[0;34m)\u001b[0m\u001b[0;34m\u001b[0m\u001b[0m\n\u001b[1;32m   1536\u001b[0m             \u001b[0mcache\u001b[0m\u001b[0;34m[\u001b[0m\u001b[0mitem\u001b[0m\u001b[0;34m]\u001b[0m \u001b[0;34m=\u001b[0m \u001b[0mres\u001b[0m\u001b[0;34m\u001b[0m\u001b[0m\n",
      "\u001b[0;32m/home/ken/anaconda3/lib/python3.6/site-packages/pandas/core/internals.py\u001b[0m in \u001b[0;36mget\u001b[0;34m(self, item, fastpath)\u001b[0m\n\u001b[1;32m   3588\u001b[0m \u001b[0;34m\u001b[0m\u001b[0m\n\u001b[1;32m   3589\u001b[0m             \u001b[0;32mif\u001b[0m \u001b[0;32mnot\u001b[0m \u001b[0misnull\u001b[0m\u001b[0;34m(\u001b[0m\u001b[0mitem\u001b[0m\u001b[0;34m)\u001b[0m\u001b[0;34m:\u001b[0m\u001b[0;34m\u001b[0m\u001b[0m\n\u001b[0;32m-> 3590\u001b[0;31m                 \u001b[0mloc\u001b[0m \u001b[0;34m=\u001b[0m \u001b[0mself\u001b[0m\u001b[0;34m.\u001b[0m\u001b[0mitems\u001b[0m\u001b[0;34m.\u001b[0m\u001b[0mget_loc\u001b[0m\u001b[0;34m(\u001b[0m\u001b[0mitem\u001b[0m\u001b[0;34m)\u001b[0m\u001b[0;34m\u001b[0m\u001b[0m\n\u001b[0m\u001b[1;32m   3591\u001b[0m             \u001b[0;32melse\u001b[0m\u001b[0;34m:\u001b[0m\u001b[0;34m\u001b[0m\u001b[0m\n\u001b[1;32m   3592\u001b[0m                 \u001b[0mindexer\u001b[0m \u001b[0;34m=\u001b[0m \u001b[0mnp\u001b[0m\u001b[0;34m.\u001b[0m\u001b[0marange\u001b[0m\u001b[0;34m(\u001b[0m\u001b[0mlen\u001b[0m\u001b[0;34m(\u001b[0m\u001b[0mself\u001b[0m\u001b[0;34m.\u001b[0m\u001b[0mitems\u001b[0m\u001b[0;34m)\u001b[0m\u001b[0;34m)\u001b[0m\u001b[0;34m[\u001b[0m\u001b[0misnull\u001b[0m\u001b[0;34m(\u001b[0m\u001b[0mself\u001b[0m\u001b[0;34m.\u001b[0m\u001b[0mitems\u001b[0m\u001b[0;34m)\u001b[0m\u001b[0;34m]\u001b[0m\u001b[0;34m\u001b[0m\u001b[0m\n",
      "\u001b[0;32m/home/ken/anaconda3/lib/python3.6/site-packages/pandas/core/indexes/base.py\u001b[0m in \u001b[0;36mget_loc\u001b[0;34m(self, key, method, tolerance)\u001b[0m\n\u001b[1;32m   2393\u001b[0m                 \u001b[0;32mreturn\u001b[0m \u001b[0mself\u001b[0m\u001b[0;34m.\u001b[0m\u001b[0m_engine\u001b[0m\u001b[0;34m.\u001b[0m\u001b[0mget_loc\u001b[0m\u001b[0;34m(\u001b[0m\u001b[0mkey\u001b[0m\u001b[0;34m)\u001b[0m\u001b[0;34m\u001b[0m\u001b[0m\n\u001b[1;32m   2394\u001b[0m             \u001b[0;32mexcept\u001b[0m \u001b[0mKeyError\u001b[0m\u001b[0;34m:\u001b[0m\u001b[0;34m\u001b[0m\u001b[0m\n\u001b[0;32m-> 2395\u001b[0;31m                 \u001b[0;32mreturn\u001b[0m \u001b[0mself\u001b[0m\u001b[0;34m.\u001b[0m\u001b[0m_engine\u001b[0m\u001b[0;34m.\u001b[0m\u001b[0mget_loc\u001b[0m\u001b[0;34m(\u001b[0m\u001b[0mself\u001b[0m\u001b[0;34m.\u001b[0m\u001b[0m_maybe_cast_indexer\u001b[0m\u001b[0;34m(\u001b[0m\u001b[0mkey\u001b[0m\u001b[0;34m)\u001b[0m\u001b[0;34m)\u001b[0m\u001b[0;34m\u001b[0m\u001b[0m\n\u001b[0m\u001b[1;32m   2396\u001b[0m \u001b[0;34m\u001b[0m\u001b[0m\n\u001b[1;32m   2397\u001b[0m         \u001b[0mindexer\u001b[0m \u001b[0;34m=\u001b[0m \u001b[0mself\u001b[0m\u001b[0;34m.\u001b[0m\u001b[0mget_indexer\u001b[0m\u001b[0;34m(\u001b[0m\u001b[0;34m[\u001b[0m\u001b[0mkey\u001b[0m\u001b[0;34m]\u001b[0m\u001b[0;34m,\u001b[0m \u001b[0mmethod\u001b[0m\u001b[0;34m=\u001b[0m\u001b[0mmethod\u001b[0m\u001b[0;34m,\u001b[0m \u001b[0mtolerance\u001b[0m\u001b[0;34m=\u001b[0m\u001b[0mtolerance\u001b[0m\u001b[0;34m)\u001b[0m\u001b[0;34m\u001b[0m\u001b[0m\n",
      "\u001b[0;32mpandas/_libs/index.pyx\u001b[0m in \u001b[0;36mpandas._libs.index.IndexEngine.get_loc (pandas/_libs/index.c:5239)\u001b[0;34m()\u001b[0m\n",
      "\u001b[0;32mpandas/_libs/index.pyx\u001b[0m in \u001b[0;36mpandas._libs.index.IndexEngine.get_loc (pandas/_libs/index.c:5085)\u001b[0;34m()\u001b[0m\n",
      "\u001b[0;32mpandas/_libs/hashtable_class_helper.pxi\u001b[0m in \u001b[0;36mpandas._libs.hashtable.PyObjectHashTable.get_item (pandas/_libs/hashtable.c:20405)\u001b[0;34m()\u001b[0m\n",
      "\u001b[0;32mpandas/_libs/hashtable_class_helper.pxi\u001b[0m in \u001b[0;36mpandas._libs.hashtable.PyObjectHashTable.get_item (pandas/_libs/hashtable.c:20359)\u001b[0;34m()\u001b[0m\n",
      "\u001b[0;31mKeyError\u001b[0m: 'cluster'"
     ]
    }
   ],
   "source": [
    "dapurMiji = (customer1.where(customer1['cluster'] == 0))['qtyOrdered'].sum()\n",
    "dapurNusantara = (customer1.where(customer1['cluster'] == 1))['qtyOrdered'].sum()\n",
    "familiaCatering = (customer1.where(customer1['cluster'] == 2))['qtyOrdered'].sum()\n",
    "pondokRawon = (customer1.where(customer1['cluster'] == 3))['qtyOrdered'].sum()\n",
    "roseCatering = (customer1.where(customer1['cluster'] == 4))['qtyOrdered'].sum()\n",
    "tigaKitchenCatering = (customer1.where(customer1['cluster'] == 5))['qtyOrdered'].sum()\n",
    "ummuUwais = (customer1.where(customer1['cluster'] == 6))['qtyOrdered'].sum()\n",
    "\n",
    "d = {'Dapur Miji': dapurMiji , 'Dapur Nusantara': dapurNusantara, 'Familia Catering': familiaCatering, 'Pondok Rawon': pondokRawon,'Rose Catering': roseCatering, 'Tiga Kitchen Catering': tigaKitchenCatering, 'Ummu Uwais': ummuUwais}"
   ]
  },
  {
   "cell_type": "code",
   "execution_count": null,
   "metadata": {
    "collapsed": true
   },
   "outputs": [],
   "source": [
    "print(customer.cluster.value_counts())"
   ]
  },
  {
   "cell_type": "code",
   "execution_count": null,
   "metadata": {
    "collapsed": true
   },
   "outputs": [],
   "source": [
    "print(d)\n",
    "print(kitchen1.minCapacity.sum())"
   ]
  },
  {
   "cell_type": "code",
   "execution_count": null,
   "metadata": {
    "collapsed": true
   },
   "outputs": [],
   "source": [
    "print(kitchen1)"
   ]
  },
  {
   "cell_type": "code",
   "execution_count": null,
   "metadata": {
    "collapsed": true
   },
   "outputs": [],
   "source": []
  }
 ],
 "metadata": {
  "kernelspec": {
   "display_name": "Python 3",
   "language": "python",
   "name": "python3"
  },
  "language_info": {
   "codemirror_mode": {
    "name": "ipython",
    "version": 3
   },
   "file_extension": ".py",
   "mimetype": "text/x-python",
   "name": "python",
   "nbconvert_exporter": "python",
   "pygments_lexer": "ipython3",
   "version": "3.6.1"
  }
 },
 "nbformat": 4,
 "nbformat_minor": 2
}
